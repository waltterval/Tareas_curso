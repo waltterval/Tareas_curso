{
  "cells": [
    {
      "cell_type": "markdown",
      "metadata": {
        "id": "2vsIEDY6LfnN"
      },
      "source": [
        "<center>\n",
        "    <img src=\"https://cf-courses-data.s3.us.cloud-object-storage.appdomain.cloud/IBMDeveloperSkillsNetwork-DS0105EN-SkillsNetwork/labs/Module2/images/SN_web_lightmode.png\" width=\"300\" alt=\"cognitiveclass.ai logo\">\n",
        "</center>\n"
      ]
    },
    {
      "cell_type": "markdown",
      "metadata": {
        "id": "JMBQIRtVLfnS"
      },
      "source": [
        "#### Add your code below following the instructions given in the course\n"
      ]
    },
    {
      "cell_type": "markdown",
      "source": [
        "# Data Science Tools and Ecosystem"
      ],
      "metadata": {
        "id": "-rOlq3KiLufg"
      }
    },
    {
      "cell_type": "markdown",
      "source": [
        "In this notebook, Data Science Tools and Ecosystem are summarized."
      ],
      "metadata": {
        "id": "tOzhS_fmL2Ww"
      }
    },
    {
      "cell_type": "markdown",
      "source": [
        "**Objectives:**\n",
        "- List some populars languages used by Data Scientists.\n",
        "- Lis some of libraries used by Data Scientists.\n",
        "- Show examples of numerical operations in python"
      ],
      "metadata": {
        "id": "yBVJUqHsSlCz"
      }
    },
    {
      "cell_type": "markdown",
      "source": [
        "Some of the popular languages that Data Scientists use are:\n",
        "1. Python: Python is one of the most widely used languages in data science.\n",
        "\n",
        "2. R: R is a statistical programming language that is extensively used in data analysis and statistical modeling.\n",
        "\n",
        "3. SQL: SQL (Structured Query Language) is essential for working with relational databases.\n",
        "\n",
        "4. Julia: Julia is a relatively new language designed for high-performance numerical computing and data science.\n",
        "\n",
        "5. Scala: Scala is a general-purpose programming language that runs on the Java Virtual Machine (JVM) and is widely used for big data processing."
      ],
      "metadata": {
        "id": "WtwPZdIkMDBN"
      }
    },
    {
      "cell_type": "markdown",
      "source": [
        "Some of the commonly used libraries used by Data Scientists include:\n",
        "\n",
        "1. NumPy: NumPy is a fundamental library for numerical computing in Python. 2\n",
        "\n",
        "2. Pandas: Pandas is a powerful data manipulation and analysis library. I\n",
        "\n",
        "3. Matplotlib: Matplotlib is a plotting library in Python that enables the creation of visualizations, including line plots, scatter plots, and more.\n",
        "\n",
        "4. Seaborn: Seaborn is a Python data visualization library built on top of Matplotlib. It provides a higher-level interface for creating attractive statistical graphics.\n",
        "\n",
        "5. scikit-learn: scikit-learn is a comprehensive machine learning library. It includes a wide range of algorithms for classification, regression, clustering, and dimensionality reduction, etc."
      ],
      "metadata": {
        "id": "VSrQdCF6NHPt"
      }
    },
    {
      "cell_type": "markdown",
      "source": [
        "|Data Science Tools|\n",
        "| ---------------- |\n",
        "|VSCode            |\n",
        "|RStudio           |\n",
        "|Jupyter Notebook  |\n"
      ],
      "metadata": {
        "id": "r_Q3Q9KzN7NI"
      }
    },
    {
      "cell_type": "markdown",
      "source": [
        "### Below are a few examples of evaluating arithmetic expressions in Python"
      ],
      "metadata": {
        "id": "UHkrNrd2OI43"
      }
    },
    {
      "cell_type": "code",
      "execution_count": 1,
      "metadata": {
        "colab": {
          "base_uri": "https://localhost:8080/"
        },
        "id": "F5sVZ8HlLfnS",
        "outputId": "44961b7d-b6c8-468e-9e13-bc3d8bcf142f"
      },
      "outputs": [
        {
          "output_type": "execute_result",
          "data": {
            "text/plain": [
              "17"
            ]
          },
          "metadata": {},
          "execution_count": 1
        }
      ],
      "source": [
        "#This a simple arithmetic expression to mutiply then add integers\n",
        "(3*4)+5"
      ]
    },
    {
      "cell_type": "code",
      "source": [
        "# This will convert 200 minutes to hours\n",
        "def to_hours(minutes):\n",
        "  '''\n",
        "  Convert minutes to hours\n",
        "  '''\n",
        "  hours = minutes / 60\n",
        "  print(f\"{minutes} minutes to hours is {hours:.2f}\")\n",
        "\n",
        "to_hours(200)"
      ],
      "metadata": {
        "colab": {
          "base_uri": "https://localhost:8080/"
        },
        "id": "oIEd4XMFQn8H",
        "outputId": "b2efb4d2-9135-442c-a30e-155f8d96a170"
      },
      "execution_count": 4,
      "outputs": [
        {
          "output_type": "stream",
          "name": "stdout",
          "text": [
            "200 minutes to hours is 3.33\n"
          ]
        }
      ]
    },
    {
      "cell_type": "markdown",
      "source": [
        "## Autor\n",
        "Waltter Valdez"
      ],
      "metadata": {
        "id": "7TQ4gGtPSQcm"
      }
    },
    {
      "cell_type": "code",
      "source": [],
      "metadata": {
        "id": "_oocDjA7TosK"
      },
      "execution_count": null,
      "outputs": []
    }
  ],
  "metadata": {
    "kernelspec": {
      "display_name": "Python",
      "language": "python",
      "name": "conda-env-python-py"
    },
    "language_info": {
      "name": ""
    },
    "colab": {
      "provenance": []
    }
  },
  "nbformat": 4,
  "nbformat_minor": 0
}